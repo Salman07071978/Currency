{
  "nbformat": 4,
  "nbformat_minor": 0,
  "metadata": {
    "colab": {
      "provenance": [],
      "authorship_tag": "ABX9TyMczXkZFZ7tB1kV87rbsuUh",
      "include_colab_link": true
    },
    "kernelspec": {
      "name": "python3",
      "display_name": "Python 3"
    },
    "language_info": {
      "name": "python"
    }
  },
  "cells": [
    {
      "cell_type": "markdown",
      "metadata": {
        "id": "view-in-github",
        "colab_type": "text"
      },
      "source": [
        "<a href=\"https://colab.research.google.com/github/Salman07071978/Currency/blob/main/My_First_App.ipynb\" target=\"_parent\"><img src=\"https://colab.research.google.com/assets/colab-badge.svg\" alt=\"Open In Colab\"/></a>"
      ]
    },
    {
      "cell_type": "code",
      "execution_count": 1,
      "metadata": {
        "colab": {
          "base_uri": "https://localhost:8080/"
        },
        "id": "2_Sk1eKCf-Yi",
        "outputId": "9a1d657a-c48f-40d0-9128-dc4b36858ae8"
      },
      "outputs": [
        {
          "output_type": "stream",
          "name": "stdout",
          "text": [
            "Welcome to the Currency Converter!\n",
            "Available currencies: USD, EUR, GBP, INR, JPY\n",
            "Enter the currency code (e.g., USD): USD\n",
            "Enter the amount in USD: 200\n",
            "200.0 USD is equal to 56000.0 PKR.\n"
          ]
        }
      ],
      "source": [
        "# Currency rates as of a certain date (for example)\n",
        "exchange_rates = {\n",
        "    \"USD\": 280,    # 1 USD to PKR\n",
        "    \"EUR\": 300,    # 1 EUR to PKR\n",
        "    \"GBP\": 350,    # 1 GBP to PKR\n",
        "    \"INR\": 3.5,    # 1 INR to PKR\n",
        "    \"JPY\": 2.0,    # 1 JPY to PKR\n",
        "}\n",
        "\n",
        "def currency_converter(amount, currency):\n",
        "    if currency in exchange_rates:\n",
        "        pkr_value = amount * exchange_rates[currency]\n",
        "        return pkr_value\n",
        "    else:\n",
        "        return None\n",
        "\n",
        "def main():\n",
        "    print(\"Welcome to the Currency Converter!\")\n",
        "    print(\"Available currencies: USD, EUR, GBP, INR, JPY\")\n",
        "\n",
        "    currency = input(\"Enter the currency code (e.g., USD): \").upper()\n",
        "    amount = float(input(f\"Enter the amount in {currency}: \"))\n",
        "\n",
        "    converted_amount = currency_converter(amount, currency)\n",
        "\n",
        "    if converted_amount is not None:\n",
        "        print(f\"{amount} {currency} is equal to {converted_amount} PKR.\")\n",
        "    else:\n",
        "        print(\"Invalid currency code. Please try again.\")\n",
        "\n",
        "if __name__ == \"__main__\":\n",
        "    main()\n"
      ]
    },
    {
      "cell_type": "code",
      "source": [],
      "metadata": {
        "id": "y-vN0YjHi0KS"
      },
      "execution_count": null,
      "outputs": []
    }
  ]
}